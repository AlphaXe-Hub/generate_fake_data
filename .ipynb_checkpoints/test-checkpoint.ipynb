{
 "cells": [
  {
   "cell_type": "code",
   "execution_count": 3,
   "metadata": {},
   "outputs": [],
   "source": [
    "import pandas as pd\n",
    "import numpy as np\n"
   ]
  },
  {
   "cell_type": "code",
   "execution_count": 0,
   "metadata": {},
   "outputs": [],
   "source": [
    "# Author: Mao, 2021-May-28\n",
    "# 空中段全重吨公里（燃油流量积分）\n",
    "# DP_PARAMS: GS, GW\n",
    "# DP_ROMS: pTKO, pLAN_OFFRWY\n",
    "# DP_HELPER_SCRIPTS: check_std_param_miss, check_kp_miss\n",
    "def rTRIP_GWTK_FCF_AIR_rom(info, result):"
   ]
  },
  {
   "cell_type": "markdown",
   "metadata": {},
   "source": [
    "# 检查所需标准参数是否存在\n",
    "> GS 地速         浮点\n",
    "> WS 飞机全重      浮点"
   ]
  },
  {
   "cell_type": "code",
   "execution_count": null,
   "metadata": {},
   "outputs": [],
   "source": [
    "\n",
    "    LIST_PARAM = ['GS','GW']\n",
    "    flg_err, str_err = check_std_param_miss(LIST_PARAM)\n",
    "    if flg_err == True:\n",
    "        result.error = str_err\n",
    "        return result"
   ]
  },
  {
   "cell_type": "code",
   "execution_count": 0,
   "metadata": {},
   "outputs": [],
   "source": [
    "\n",
    "    # 检查所需关键点是否存在\n",
    "    LIST_KP = ['pTKO', 'pLAN_OFFRWY']\n",
    "    flg_err, str_err = check_kp_miss(LIST_KP)\n",
    "    if flg_err == True:\n",
    "        result.error = str_err\n",
    "        return result"
   ]
  },
  {
   "cell_type": "code",
   "execution_count": 0,
   "metadata": {},
   "outputs": [],
   "source": [
    "\n",
    "    # 以下为主体逻辑\n",
    "    np = numpy\n",
    "    time_start = pTKO.time\n",
    "    time_end = pLAN_OFFRWY.time\n",
    "    arr_GS = np.array(GS[time_start : time_end + 1])\n",
    "    arr_GW = np.array(GW[time_start : time_end + 1])"
   ]
  },
  {
   "cell_type": "code",
   "execution_count": 0,
   "metadata": {},
   "outputs": [],
   "source": [
    "\n",
    "    arr_GS_AVG = (arr_GS[:-1] + arr_GS[1:]) / 2\n",
    "    arr_GW_AVG = (arr_GW[:-1] + arr_GW[1:]) / 2"
   ]
  },
  {
   "cell_type": "code",
   "execution_count": 0,
   "metadata": {},
   "outputs": [],
   "source": [
    "\n",
    "    arr_GWTK = arr_GW_AVG / 1000 * arr_GS_AVG * 1.852 / 3600"
   ]
  },
  {
   "cell_type": "code",
   "execution_count": 4,
   "metadata": {},
   "outputs": [
    {
     "name": "stdout",
     "output_type": "stream",
     "text": [
      "hi\n"
     ]
    }
   ],
   "source": [
    "\n",
    "    result.value = sum(arr_GWTK)\n",
    "    result.time = pLAN_OFFRWY.time\n",
    "    return result"
   ]
  },
  {
   "cell_type": "markdown",
   "metadata": {},
   "source": []
  }
 ],
 "metadata": {
  "kernelspec": {
   "display_name": "Python 3 (ipykernel)",
   "language": "python",
   "name": "python3"
  },
  "language_info": {
   "codemirror_mode": {
    "name": "ipython",
    "version": 3
   },
   "file_extension": ".py",
   "mimetype": "text/x-python",
   "name": "python",
   "nbconvert_exporter": "python",
   "pygments_lexer": "ipython3",
   "version": "3.9.13"
  }
 },
 "nbformat": 4,
 "nbformat_minor": 1
}
